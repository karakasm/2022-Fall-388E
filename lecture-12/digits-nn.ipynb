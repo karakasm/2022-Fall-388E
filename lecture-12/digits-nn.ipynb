{
 "cells": [
  {
   "cell_type": "code",
   "execution_count": 14,
   "id": "2c17b73f-1eab-434b-8187-b518f03f4731",
   "metadata": {},
   "outputs": [],
   "source": [
    "import pandas as pd\n",
    "import numpy as np\n",
    "import tensorflow as tf\n",
    "\n",
    "from random import randint\n",
    "\n",
    "from keras.preprocessing import sequence \n",
    "from keras.datasets import imdb\n",
    "\n",
    "from tensorflow.keras.models import Sequential\n",
    "from tensorflow.keras.layers import Dense, LSTM, Conv1D, Conv2D, Embedding, Flatten\n",
    "\n",
    "from sklearn.datasets import load_digits\n",
    "from sklearn.preprocessing import StandardScaler, LabelBinarizer\n",
    "from sklearn.metrics import confusion_matrix, classification_report\n",
    "from sklearn.model_selection import train_test_split\n",
    "\n",
    "import matplotlib.pyplot as plt"
   ]
  },
  {
   "cell_type": "code",
   "execution_count": 2,
   "id": "38466aac-6194-4388-9ac4-3fab723acb1c",
   "metadata": {},
   "outputs": [],
   "source": [
    "digits = load_digits()"
   ]
  },
  {
   "cell_type": "code",
   "execution_count": 3,
   "id": "cc308849-9cd4-41c9-920f-e56efb5a7814",
   "metadata": {},
   "outputs": [
    {
     "data": {
      "text/plain": [
       "<matplotlib.image.AxesImage at 0x7fb71ac90d90>"
      ]
     },
     "execution_count": 3,
     "metadata": {},
     "output_type": "execute_result"
    },
    {
     "data": {
      "image/png": "[encoded data removed]",
      "text/plain": [
       "<Figure size 640x480 with 1 Axes>"
      ]
     },
     "metadata": {},
     "output_type": "display_data"
    }
   ],
   "source": [
    "X = digits['images']\n",
    "N = X.shape[0]\n",
    "plt.imshow(X[randint(0,N)])\n",
    "#X = X.reshape((-1,8,8,))"
   ]
  },
  {
   "cell_type": "code",
   "execution_count": 4,
   "id": "836159eb-718a-4e23-9e76-e85670d0fa0b",
   "metadata": {},
   "outputs": [
    {
     "data": {
      "text/plain": [
       "(1797, 10)"
      ]
     },
     "execution_count": 4,
     "metadata": {},
     "output_type": "execute_result"
    }
   ],
   "source": [
    "binarizer = LabelBinarizer()\n",
    "Y = binarizer.fit_transform(digits['target'])\n",
    "Y.shape"
   ]
  },
  {
   "cell_type": "code",
   "execution_count": 5,
   "id": "1196e683-4575-48d3-86fd-d9c50f125624",
   "metadata": {},
   "outputs": [],
   "source": [
    "X_test, X_train, Y_test, Y_train = train_test_split(X,Y,train_size=0.9)"
   ]
  },
  {
   "cell_type": "code",
   "execution_count": 6,
   "id": "566ebbc0-554e-4a4a-b375-1b16b9c9b9cb",
   "metadata": {},
   "outputs": [
    {
     "name": "stderr",
     "output_type": "stream",
     "text": [
      "2022-12-12 12:31:32.812104: W tensorflow/compiler/xla/stream_executor/platform/default/dso_loader.cc:64] Could not load dynamic library 'libcuda.so.1'; dlerror: libcuda.so.1: cannot open shared object file: No such file or directory; LD_LIBRARY_PATH: /home/kaygun/local/lib\n",
      "2022-12-12 12:31:32.812154: W tensorflow/compiler/xla/stream_executor/cuda/cuda_driver.cc:265] failed call to cuInit: UNKNOWN ERROR (303)\n",
      "2022-12-12 12:31:32.812191: I tensorflow/compiler/xla/stream_executor/cuda/cuda_diagnostics.cc:156] kernel driver does not appear to be running on this host (ada): /proc/driver/nvidia/version does not exist\n",
      "2022-12-12 12:31:32.812716: I tensorflow/core/platform/cpu_feature_guard.cc:193] This TensorFlow binary is optimized with oneAPI Deep Neural Network Library (oneDNN) to use the following CPU instructions in performance-critical operations:  AVX2 FMA\n",
      "To enable them in other operations, rebuild TensorFlow with the appropriate compiler flags.\n"
     ]
    }
   ],
   "source": [
    "model = Sequential()\n",
    "model.add(Conv2D(3, 2, activation='softmax', input_shape=(8,8,1,)))\n",
    "model.add(Flatten())\n",
    "model.add(Dense(256, activation='relu'))\n",
    "model.add(Dense(128, activation='relu'))\n",
    "model.add(Dense(10, activation='sigmoid'))\n",
    "model.compile(loss = 'binary_crossentropy', \n",
    "              optimizer = 'adamax', \n",
    "              metrics = ['accuracy'])"
   ]
  },
  {
   "cell_type": "code",
   "execution_count": 12,
   "id": "c82d67ea-f809-4315-88ea-b87e05743f22",
   "metadata": {},
   "outputs": [
    {
     "name": "stdout",
     "output_type": "stream",
     "text": [
      "Epoch 1/15\n",
      "6/6 [==============================] - 1s 104ms/step - loss: 0.0375 - accuracy: 0.9778 - val_loss: 0.0911 - val_accuracy: 0.8491\n",
      "Epoch 2/15\n",
      "6/6 [==============================] - 0s 63ms/step - loss: 0.0362 - accuracy: 0.9833 - val_loss: 0.0904 - val_accuracy: 0.8510\n",
      "Epoch 3/15\n",
      "6/6 [==============================] - 0s 77ms/step - loss: 0.0350 - accuracy: 0.9833 - val_loss: 0.0892 - val_accuracy: 0.8547\n",
      "Epoch 4/15\n",
      "6/6 [==============================] - 0s 70ms/step - loss: 0.0342 - accuracy: 0.9833 - val_loss: 0.0883 - val_accuracy: 0.8553\n",
      "Epoch 5/15\n",
      "6/6 [==============================] - 0s 85ms/step - loss: 0.0328 - accuracy: 0.9833 - val_loss: 0.0876 - val_accuracy: 0.8571\n",
      "Epoch 6/15\n",
      "6/6 [==============================] - 0s 79ms/step - loss: 0.0318 - accuracy: 0.9889 - val_loss: 0.0870 - val_accuracy: 0.8565\n",
      "Epoch 7/15\n",
      "6/6 [==============================] - 0s 78ms/step - loss: 0.0309 - accuracy: 0.9833 - val_loss: 0.0865 - val_accuracy: 0.8541\n",
      "Epoch 8/15\n",
      "6/6 [==============================] - 0s 72ms/step - loss: 0.0299 - accuracy: 0.9833 - val_loss: 0.0863 - val_accuracy: 0.8578\n",
      "Epoch 9/15\n",
      "6/6 [==============================] - 0s 81ms/step - loss: 0.0290 - accuracy: 0.9944 - val_loss: 0.0858 - val_accuracy: 0.8578\n",
      "Epoch 10/15\n",
      "6/6 [==============================] - 0s 77ms/step - loss: 0.0284 - accuracy: 0.9944 - val_loss: 0.0854 - val_accuracy: 0.8609\n",
      "Epoch 11/15\n",
      "6/6 [==============================] - 0s 76ms/step - loss: 0.0273 - accuracy: 0.9889 - val_loss: 0.0846 - val_accuracy: 0.8596\n",
      "Epoch 12/15\n",
      "6/6 [==============================] - 0s 77ms/step - loss: 0.0266 - accuracy: 0.9889 - val_loss: 0.0838 - val_accuracy: 0.8627\n",
      "Epoch 13/15\n",
      "6/6 [==============================] - 0s 67ms/step - loss: 0.0257 - accuracy: 0.9944 - val_loss: 0.0835 - val_accuracy: 0.8627\n",
      "Epoch 14/15\n",
      "6/6 [==============================] - 0s 82ms/step - loss: 0.0250 - accuracy: 0.9944 - val_loss: 0.0832 - val_accuracy: 0.8621\n",
      "Epoch 15/15\n",
      "6/6 [==============================] - 0s 83ms/step - loss: 0.0240 - accuracy: 0.9944 - val_loss: 0.0823 - val_accuracy: 0.8677\n"
     ]
    },
    {
     "data": {
      "text/plain": [
       "<keras.callbacks.History at 0x7fb70c1d1f00>"
      ]
     },
     "execution_count": 12,
     "metadata": {},
     "output_type": "execute_result"
    }
   ],
   "source": [
    "model.fit(X_train, Y_train,\n",
    "          batch_size = 32,\n",
    "          epochs = 15,\n",
    "          validation_data = (X_test, Y_test))"
   ]
  },
  {
   "cell_type": "code",
   "execution_count": 13,
   "id": "a9b4fd49-ccc5-47cf-bd05-37297f4611be",
   "metadata": {},
   "outputs": [
    {
     "name": "stdout",
     "output_type": "stream",
     "text": [
      "51/51 [==============================] - 0s 5ms/step\n"
     ]
    },
    {
     "data": {
      "text/plain": [
       "array([[160,   0,   0,   0,   1,   0,   1,   0,   0,   0],\n",
       "       [  0, 132,   0,   2,   1,   1,   0,   0,  13,  16],\n",
       "       [  0,   5, 138,   8,   0,   1,   0,   0,   3,   2],\n",
       "       [  0,   3,   1, 135,   0,   4,   1,   1,  10,  12],\n",
       "       [  0,   3,   0,   0, 149,   0,   0,   7,   0,   0],\n",
       "       [  2,   3,   0,   0,   2, 131,   1,   2,   2,  25],\n",
       "       [  4,   7,   2,   0,   1,   0, 146,   0,   2,   0],\n",
       "       [  0,   0,   0,   0,   6,   0,   0, 152,   3,   0],\n",
       "       [  1,   6,   1,   2,   1,   1,   1,   2, 127,  13],\n",
       "       [  1,   1,   0,   1,   3,   5,   0,  12,   5, 133]])"
      ]
     },
     "execution_count": 13,
     "metadata": {},
     "output_type": "execute_result"
    }
   ],
   "source": [
    "Y_pred = model.predict(X_test).argmax(axis=1)\n",
    "YY_test = Y_test.argmax(axis=1)\n",
    "confusion_matrix(YY_test,Y_pred)"
   ]
  },
  {
   "cell_type": "code",
   "execution_count": 15,
   "id": "5371690d-5334-43f7-a555-77e9b736ef8d",
   "metadata": {},
   "outputs": [
    {
     "name": "stdout",
     "output_type": "stream",
     "text": [
      "              precision    recall  f1-score   support\n",
      "\n",
      "           0       0.95      0.99      0.97       162\n",
      "           1       0.82      0.80      0.81       165\n",
      "           2       0.97      0.88      0.92       157\n",
      "           3       0.91      0.81      0.86       167\n",
      "           4       0.91      0.94      0.92       159\n",
      "           5       0.92      0.78      0.84       168\n",
      "           6       0.97      0.90      0.94       162\n",
      "           7       0.86      0.94      0.90       161\n",
      "           8       0.77      0.82      0.79       155\n",
      "           9       0.66      0.83      0.73       161\n",
      "\n",
      "    accuracy                           0.87      1617\n",
      "   macro avg       0.88      0.87      0.87      1617\n",
      "weighted avg       0.88      0.87      0.87      1617\n",
      "\n"
     ]
    }
   ],
   "source": [
    "print(classification_report(YY_test,Y_pred))"
   ]
  },
  {
   "cell_type": "code",
   "execution_count": null,
   "id": "c2070e6d-0591-418a-b6fc-71c11358b898",
   "metadata": {},
   "outputs": [],
   "source": []
  }
 ],
 "metadata": {
  "kernelspec": {
   "display_name": "Python 3 (ipykernel)",
   "language": "python",
   "name": "python3"
  },
  "language_info": {
   "codemirror_mode": {
    "name": "ipython",
    "version": 3
   },
   "file_extension": ".py",
   "mimetype": "text/x-python",
   "name": "python",
   "nbconvert_exporter": "python",
   "pygments_lexer": "ipython3",
   "version": "3.10.8"
  }
 },
 "nbformat": 4,
 "nbformat_minor": 5
}
