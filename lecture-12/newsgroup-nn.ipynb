{
 "cells": [
  {
   "cell_type": "code",
   "execution_count": 1,
   "id": "c101c265-69af-40ee-a55d-671c0a211355",
   "metadata": {},
   "outputs": [
    {
     "name": "stderr",
     "output_type": "stream",
     "text": [
      "2022-12-12 12:31:05.277022: I tensorflow/core/platform/cpu_feature_guard.cc:193] This TensorFlow binary is optimized with oneAPI Deep Neural Network Library (oneDNN) to use the following CPU instructions in performance-critical operations:  AVX2 FMA\n",
      "To enable them in other operations, rebuild TensorFlow with the appropriate compiler flags.\n",
      "2022-12-12 12:31:05.417658: W tensorflow/compiler/xla/stream_executor/platform/default/dso_loader.cc:64] Could not load dynamic library 'libcudart.so.11.0'; dlerror: libcudart.so.11.0: cannot open shared object file: No such file or directory; LD_LIBRARY_PATH: /home/kaygun/local/lib\n",
      "2022-12-12 12:31:05.417680: I tensorflow/compiler/xla/stream_executor/cuda/cudart_stub.cc:29] Ignore above cudart dlerror if you do not have a GPU set up on your machine.\n",
      "2022-12-12 12:31:06.147457: W tensorflow/compiler/xla/stream_executor/platform/default/dso_loader.cc:64] Could not load dynamic library 'libnvinfer.so.7'; dlerror: libnvinfer.so.7: cannot open shared object file: No such file or directory; LD_LIBRARY_PATH: /home/kaygun/local/lib\n",
      "2022-12-12 12:31:06.147523: W tensorflow/compiler/xla/stream_executor/platform/default/dso_loader.cc:64] Could not load dynamic library 'libnvinfer_plugin.so.7'; dlerror: libnvinfer_plugin.so.7: cannot open shared object file: No such file or directory; LD_LIBRARY_PATH: /home/kaygun/local/lib\n",
      "2022-12-12 12:31:06.147530: W tensorflow/compiler/tf2tensorrt/utils/py_utils.cc:38] TF-TRT Warning: Cannot dlopen some TensorRT libraries. If you would like to use Nvidia GPU with TensorRT, please make sure the missing libraries mentioned above are installed properly.\n"
     ]
    }
   ],
   "source": [
    "import pandas as pd\n",
    "import numpy as np\n",
    "import tensorflow as tf\n",
    "\n",
    "from keras.preprocessing import sequence \n",
    "\n",
    "from tensorflow.keras.models import Sequential\n",
    "from tensorflow.keras.layers import Dense, LSTM, Dropout \n",
    "\n",
    "from sklearn.datasets import fetch_20newsgroups_vectorized\n",
    "from sklearn.preprocessing import LabelBinarizer\n",
    "from sklearn.model_selection import train_test_split\n",
    "from sklearn.metrics import confusion_matrix, classification_report\n",
    "\n",
    "import matplotlib.pyplot as plt"
   ]
  },
  {
   "cell_type": "code",
   "execution_count": 2,
   "id": "c9faddea-35c4-4d4a-86e1-1af3f3c5be14",
   "metadata": {},
   "outputs": [],
   "source": [
    "data = fetch_20newsgroups_vectorized(data_home='/home/kaygun/local/data/scikit_learn_data/')"
   ]
  },
  {
   "cell_type": "code",
   "execution_count": 3,
   "id": "3508d188-44ff-472d-95d1-94eb3dbb5974",
   "metadata": {},
   "outputs": [
    {
     "data": {
      "text/plain": [
       "(11314, 20)"
      ]
     },
     "execution_count": 3,
     "metadata": {},
     "output_type": "execute_result"
    }
   ],
   "source": [
    "binarizer = LabelBinarizer()\n",
    "y = binarizer.fit_transform(data['target'])\n",
    "y.shape"
   ]
  },
  {
   "cell_type": "code",
   "execution_count": 4,
   "id": "1db45abc-2219-4018-85d0-4112c7bbb30e",
   "metadata": {},
   "outputs": [
    {
     "data": {
      "text/plain": [
       "(11314, 130107)"
      ]
     },
     "execution_count": 4,
     "metadata": {},
     "output_type": "execute_result"
    }
   ],
   "source": [
    "X = data['data']\n",
    "X.shape"
   ]
  },
  {
   "cell_type": "code",
   "execution_count": 5,
   "id": "56cd9673-82ad-48f8-be57-ce1d2d60505d",
   "metadata": {},
   "outputs": [],
   "source": [
    "X_train,X_test,y_train,y_test = train_test_split(X,y,train_size=0.75)"
   ]
  },
  {
   "cell_type": "code",
   "execution_count": 6,
   "id": "e8d3d379-4316-47c0-b433-c9031719759d",
   "metadata": {},
   "outputs": [
    {
     "name": "stderr",
     "output_type": "stream",
     "text": [
      "2022-12-12 12:31:07.983662: W tensorflow/compiler/xla/stream_executor/platform/default/dso_loader.cc:64] Could not load dynamic library 'libcuda.so.1'; dlerror: libcuda.so.1: cannot open shared object file: No such file or directory; LD_LIBRARY_PATH: /home/kaygun/local/lib\n",
      "2022-12-12 12:31:07.983680: W tensorflow/compiler/xla/stream_executor/cuda/cuda_driver.cc:265] failed call to cuInit: UNKNOWN ERROR (303)\n",
      "2022-12-12 12:31:07.983696: I tensorflow/compiler/xla/stream_executor/cuda/cuda_diagnostics.cc:156] kernel driver does not appear to be running on this host (ada): /proc/driver/nvidia/version does not exist\n",
      "2022-12-12 12:31:07.983898: I tensorflow/core/platform/cpu_feature_guard.cc:193] This TensorFlow binary is optimized with oneAPI Deep Neural Network Library (oneDNN) to use the following CPU instructions in performance-critical operations:  AVX2 FMA\n",
      "To enable them in other operations, rebuild TensorFlow with the appropriate compiler flags.\n"
     ]
    }
   ],
   "source": [
    "model = Sequential()\n",
    "model.add(Dense(256, input_shape=(X_train.shape[1],), activation='softmax'))\n",
    "model.add(Dropout(0.15))\n",
    "model.add(Dense(20, activation='sigmoid'))\n",
    "model.compile(loss = 'categorical_crossentropy', \n",
    "              metrics = ['accuracy'],\n",
    "              optimizer = 'adam')"
   ]
  },
  {
   "cell_type": "code",
   "execution_count": 13,
   "id": "b3782620-c5ef-41fa-8e26-97fdacfb8d8e",
   "metadata": {},
   "outputs": [
    {
     "name": "stdout",
     "output_type": "stream",
     "text": [
      "Epoch 1/10\n",
      "67/67 [==============================] - 40s 591ms/step - loss: 2.0968 - accuracy: 0.3797 - val_loss: 2.0998 - val_accuracy: 0.4539\n",
      "Epoch 2/10\n",
      "67/67 [==============================] - 44s 655ms/step - loss: 2.0633 - accuracy: 0.3896 - val_loss: 2.0674 - val_accuracy: 0.4652\n",
      "Epoch 3/10\n",
      "67/67 [==============================] - 51s 765ms/step - loss: 2.0267 - accuracy: 0.3873 - val_loss: 2.0358 - val_accuracy: 0.4578\n",
      "Epoch 4/10\n",
      "67/67 [==============================] - 47s 710ms/step - loss: 1.9999 - accuracy: 0.3954 - val_loss: 2.0070 - val_accuracy: 0.4730\n",
      "Epoch 5/10\n",
      "67/67 [==============================] - 51s 756ms/step - loss: 1.9740 - accuracy: 0.3852 - val_loss: 1.9799 - val_accuracy: 0.4719\n",
      "Epoch 6/10\n",
      "67/67 [==============================] - 51s 760ms/step - loss: 1.9437 - accuracy: 0.3993 - val_loss: 1.9543 - val_accuracy: 0.4751\n",
      "Epoch 7/10\n",
      "67/67 [==============================] - 52s 776ms/step - loss: 1.9250 - accuracy: 0.4011 - val_loss: 1.9299 - val_accuracy: 0.4807\n",
      "Epoch 8/10\n",
      "67/67 [==============================] - 52s 772ms/step - loss: 1.9002 - accuracy: 0.4053 - val_loss: 1.9065 - val_accuracy: 0.4882\n",
      "Epoch 9/10\n",
      "67/67 [==============================] - 52s 770ms/step - loss: 1.8762 - accuracy: 0.4121 - val_loss: 1.8838 - val_accuracy: 0.4913\n",
      "Epoch 10/10\n",
      "67/67 [==============================] - 47s 699ms/step - loss: 1.8424 - accuracy: 0.4212 - val_loss: 1.8614 - val_accuracy: 0.4956\n"
     ]
    },
    {
     "data": {
      "text/plain": [
       "<keras.callbacks.History at 0x7ff0484fa6e0>"
      ]
     },
     "execution_count": 13,
     "metadata": {},
     "output_type": "execute_result"
    }
   ],
   "source": [
    "model.fit(X_train, y_train,\n",
    "          batch_size = 128,\n",
    "          epochs = 10,\n",
    "          validation_data = (X_test, y_test))"
   ]
  },
  {
   "cell_type": "code",
   "execution_count": 14,
   "id": "20667444-5019-410e-b9e8-64ef199faaa5",
   "metadata": {},
   "outputs": [
    {
     "name": "stdout",
     "output_type": "stream",
     "text": [
      "89/89 [==============================] - 1s 8ms/step\n"
     ]
    }
   ],
   "source": [
    "y_pred = model.predict(X_test).argmax(axis=1)\n",
    "yy_test = y_test.argmax(axis=1)\n",
    "res = confusion_matrix(yy_test,y_pred)"
   ]
  },
  {
   "cell_type": "code",
   "execution_count": 15,
   "id": "d41d938b-6a80-4d8b-a893-e8a868adda73",
   "metadata": {},
   "outputs": [
    {
     "data": {
      "text/plain": [
       "array([[  0,   0,   0,   0,   0,   0,   0,   1,   0,   1],\n",
       "       [  0,   1,  15,  16,  16,  81,   3,   1,   0,   0],\n",
       "       [  0,   0,  43,  10,   2,  77,   4,   0,   0,   0],\n",
       "       [  0,   0,  12,  42,  35,  26,  11,   2,   0,   0],\n",
       "       [  0,   0,   2,   7, 110,  10,   8,   0,   0,   0],\n",
       "       [  0,   0,   1,   0,   0, 137,   1,   1,   0,   1],\n",
       "       [  0,   0,   0,   1,   0,   0, 125,   3,   0,   2],\n",
       "       [  0,   0,   0,   0,   0,   1,   5,  43,  71,   6],\n",
       "       [  0,   0,   0,   0,   0,   1,   4,   2, 139,   1],\n",
       "       [  0,   0,   0,   0,   0,   0,   3,   3,   3,  71]])"
      ]
     },
     "execution_count": 15,
     "metadata": {},
     "output_type": "execute_result"
    }
   ],
   "source": [
    "res[:10,:10]"
   ]
  },
  {
   "cell_type": "code",
   "execution_count": 16,
   "id": "68732389-8305-4e7a-9b96-417682c11303",
   "metadata": {},
   "outputs": [
    {
     "data": {
      "text/plain": [
       "array([[142,   0,   1,   0,   0,   0,   0,   0,   0,   0],\n",
       "       [  0, 135,   2,   4,   1,   0,   0,   0,   0,   0],\n",
       "       [  1,   0,  66,   2,   1,   0,   0,   0,   0,   0],\n",
       "       [  1,   8,   9, 111,   4,   0,   0,   0,   0,   0],\n",
       "       [  0,   0,   4,  23,  34,   2,   0,   0,   0,   0],\n",
       "       [  1,   1,   1,   0,   1,  67,   1,  69,   0,   0],\n",
       "       [  0,  86,   4,   2,   2,   7,  27,   0,   0,   0],\n",
       "       [  4,   2,   0,   0,   0,  26,   4, 109,   0,   0],\n",
       "       [  0,  89,   0,   1,   1,  14,   6,   0,   0,   0],\n",
       "       [  0,   4,   0,   0,   1,  63,   8,  20,   0,   0]])"
      ]
     },
     "execution_count": 16,
     "metadata": {},
     "output_type": "execute_result"
    }
   ],
   "source": [
    "res[10:,10:]"
   ]
  },
  {
   "cell_type": "code",
   "execution_count": 17,
   "id": "e72ef4c5-6811-4f93-96c8-f92fa287ee92",
   "metadata": {},
   "outputs": [
    {
     "name": "stdout",
     "output_type": "stream",
     "text": [
      "              precision    recall  f1-score   support\n",
      "\n",
      "           0       0.00      0.00      0.00       120\n",
      "           1       1.00      0.01      0.01       156\n",
      "           2       0.46      0.29      0.36       146\n",
      "           3       0.48      0.29      0.36       146\n",
      "           4       0.65      0.72      0.68       153\n",
      "           5       0.38      0.96      0.55       143\n",
      "           6       0.70      0.93      0.80       135\n",
      "           7       0.49      0.31      0.38       137\n",
      "           8       0.45      0.93      0.61       150\n",
      "           9       0.70      0.48      0.57       149\n",
      "          10       0.67      0.92      0.77       155\n",
      "          11       0.41      0.90      0.56       150\n",
      "          12       0.41      0.47      0.44       141\n",
      "          13       0.75      0.68      0.71       164\n",
      "          14       0.63      0.22      0.33       154\n",
      "          15       0.27      0.47      0.34       142\n",
      "          16       0.36      0.21      0.26       130\n",
      "          17       0.50      0.75      0.60       146\n",
      "          18       0.00      0.00      0.00       115\n",
      "          19       0.00      0.00      0.00        97\n",
      "\n",
      "    accuracy                           0.50      2829\n",
      "   macro avg       0.47      0.48      0.42      2829\n",
      "weighted avg       0.49      0.50      0.43      2829\n",
      "\n"
     ]
    },
    {
     "name": "stderr",
     "output_type": "stream",
     "text": [
      "/home/kaygun/.local/lib/python3.10/site-packages/sklearn/metrics/_classification.py:1334: UndefinedMetricWarning: Precision and F-score are ill-defined and being set to 0.0 in labels with no predicted samples. Use `zero_division` parameter to control this behavior.\n",
      "  _warn_prf(average, modifier, msg_start, len(result))\n",
      "/home/kaygun/.local/lib/python3.10/site-packages/sklearn/metrics/_classification.py:1334: UndefinedMetricWarning: Precision and F-score are ill-defined and being set to 0.0 in labels with no predicted samples. Use `zero_division` parameter to control this behavior.\n",
      "  _warn_prf(average, modifier, msg_start, len(result))\n",
      "/home/kaygun/.local/lib/python3.10/site-packages/sklearn/metrics/_classification.py:1334: UndefinedMetricWarning: Precision and F-score are ill-defined and being set to 0.0 in labels with no predicted samples. Use `zero_division` parameter to control this behavior.\n",
      "  _warn_prf(average, modifier, msg_start, len(result))\n"
     ]
    }
   ],
   "source": [
    "print(classification_report(yy_test,y_pred))"
   ]
  },
  {
   "cell_type": "code",
   "execution_count": null,
   "id": "8aa06e56-2cde-4a17-b42d-c04df558b725",
   "metadata": {},
   "outputs": [],
   "source": []
  }
 ],
 "metadata": {
  "kernelspec": {
   "display_name": "Python 3 (ipykernel)",
   "language": "python",
   "name": "python3"
  },
  "language_info": {
   "codemirror_mode": {
    "name": "ipython",
    "version": 3
   },
   "file_extension": ".py",
   "mimetype": "text/x-python",
   "name": "python",
   "nbconvert_exporter": "python",
   "pygments_lexer": "ipython3",
   "version": "3.10.8"
  }
 },
 "nbformat": 4,
 "nbformat_minor": 5
}
