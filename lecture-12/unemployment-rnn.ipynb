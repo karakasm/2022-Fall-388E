{
 "cells": [
  {
   "cell_type": "code",
   "execution_count": 8,
   "id": "b5f088b1-28a3-4f0b-801e-135bbfc39b5a",
   "metadata": {},
   "outputs": [],
   "source": [
    "import numpy as np\n",
    "import pandas as pd\n",
    "import yfinance as yf\n",
    "import wbgapi as wb\n",
    "\n",
    "import tensorflow as tf\n",
    "from tensorflow.keras.models import Sequential\n",
    "from tensorflow.keras.layers import Dense, LSTM, RNN, Dropout, SimpleRNN\n",
    "\n",
    "from sklearn.preprocessing import MinMaxScaler\n",
    "from sklearn.metrics import mean_squared_error\n",
    "\n",
    "from keras.callbacks import EarlyStopping\n",
    "\n",
    "import matplotlib.pyplot as plt"
   ]
  },
  {
   "cell_type": "code",
   "execution_count": 9,
   "id": "6d390165-75f0-44db-92f6-4d8743ea2747",
   "metadata": {},
   "outputs": [],
   "source": [
    "def load_data(ID,ec,T):\n",
    "    data = wb.data.DataFrame(ID,economy=ec).T\n",
    "    data.dropna(inplace=True)\n",
    "    N = data.shape[0]\n",
    "    raw = data[ec].to_numpy().reshape(N,1,)\n",
    "    Y_train = raw[1:N-T]\n",
    "    X_train = raw[:N-T-1]\n",
    "    Y_test = raw[N-T:]\n",
    "    X_test = raw[N-T-1:N-1]\n",
    "    return X_train,X_test,Y_train,Y_test"
   ]
  },
  {
   "cell_type": "code",
   "execution_count": 10,
   "id": "42e6642e-e453-4518-8aaa-9bc1de011488",
   "metadata": {},
   "outputs": [],
   "source": [
    "X_train,X_test,Y_train,Y_test = load_data('SL.UEM.TOTL.NE.ZS','USA',12)"
   ]
  },
  {
   "cell_type": "code",
   "execution_count": 11,
   "id": "e4eb2b50-71d4-4eda-a4f0-7ca897798288",
   "metadata": {},
   "outputs": [],
   "source": [
    "model = Sequential()\n",
    "model.add(SimpleRNN(64, input_shape = (1,1), activation = 'relu'))\n",
    "model.add(Dropout(0.25))\n",
    "model.add(Dense(1, activation='linear'))\n",
    "\n",
    "# monitor validation progress\n",
    "early = EarlyStopping(monitor = \"val_loss\", mode = \"min\")\n",
    "callbacks_list = [early]\n",
    "    \n",
    "model.compile(loss = 'mean_squared_error',\n",
    "              optimizer = 'adam',\n",
    "              metrics = ['mse'])"
   ]
  },
  {
   "cell_type": "code",
   "execution_count": 12,
   "id": "d31103b6-f6f9-4506-a8df-642259f15485",
   "metadata": {},
   "outputs": [
    {
     "name": "stdout",
     "output_type": "stream",
     "text": [
      "Epoch 1/10\n",
      "10/10 [==============================] - 2s 48ms/step - loss: 32.9187 - mse: 32.9187 - val_loss: 32.6041 - val_mse: 32.6041\n",
      "Epoch 2/10\n",
      "10/10 [==============================] - 0s 8ms/step - loss: 24.3755 - mse: 24.3755 - val_loss: 24.8450 - val_mse: 24.8450\n",
      "Epoch 3/10\n",
      "10/10 [==============================] - 0s 9ms/step - loss: 19.5563 - mse: 19.5563 - val_loss: 18.5808 - val_mse: 18.5808\n",
      "Epoch 4/10\n",
      "10/10 [==============================] - 0s 9ms/step - loss: 15.8933 - mse: 15.8933 - val_loss: 13.4784 - val_mse: 13.4784\n",
      "Epoch 5/10\n",
      "10/10 [==============================] - 0s 9ms/step - loss: 10.2548 - mse: 10.2548 - val_loss: 9.5232 - val_mse: 9.5232\n",
      "Epoch 6/10\n",
      "10/10 [==============================] - 0s 9ms/step - loss: 8.4308 - mse: 8.4308 - val_loss: 6.6830 - val_mse: 6.6830\n",
      "Epoch 7/10\n",
      "10/10 [==============================] - 0s 8ms/step - loss: 5.2964 - mse: 5.2964 - val_loss: 4.7297 - val_mse: 4.7297\n",
      "Epoch 8/10\n",
      "10/10 [==============================] - 0s 7ms/step - loss: 4.1123 - mse: 4.1123 - val_loss: 3.4878 - val_mse: 3.4878\n",
      "Epoch 9/10\n",
      "10/10 [==============================] - 0s 9ms/step - loss: 3.0106 - mse: 3.0106 - val_loss: 2.7570 - val_mse: 2.7570\n",
      "Epoch 10/10\n",
      "10/10 [==============================] - 0s 8ms/step - loss: 1.9895 - mse: 1.9895 - val_loss: 2.3747 - val_mse: 2.3747\n"
     ]
    },
    {
     "data": {
      "text/plain": [
       "<keras.callbacks.History at 0x7f6ea43d88e0>"
      ]
     },
     "execution_count": 12,
     "metadata": {},
     "output_type": "execute_result"
    }
   ],
   "source": [
    "model.fit(X_train,Y_train,epochs=10,batch_size=5,verbose=1,validation_data=(X_test,Y_test))"
   ]
  },
  {
   "cell_type": "code",
   "execution_count": 13,
   "id": "7cb4a2cb-974a-4c77-9694-6f1fa765a29b",
   "metadata": {},
   "outputs": [
    {
     "name": "stdout",
     "output_type": "stream",
     "text": [
      "1/1 [==============================] - 0s 228ms/step\n"
     ]
    },
    {
     "data": {
      "text/html": [
       "<div>\n",
       "<style scoped>\n",
       "    .dataframe tbody tr th:only-of-type {\n",
       "        vertical-align: middle;\n",
       "    }\n",
       "\n",
       "    .dataframe tbody tr th {\n",
       "        vertical-align: top;\n",
       "    }\n",
       "\n",
       "    .dataframe thead th {\n",
       "        text-align: right;\n",
       "    }\n",
       "</style>\n",
       "<table border=\"1\" class=\"dataframe\">\n",
       "  <thead>\n",
       "    <tr style=\"text-align: right;\">\n",
       "      <th></th>\n",
       "      <th>X_test</th>\n",
       "      <th>Y_test</th>\n",
       "      <th>Y_pred</th>\n",
       "    </tr>\n",
       "  </thead>\n",
       "  <tbody>\n",
       "    <tr>\n",
       "      <th>0</th>\n",
       "      <td>9.25</td>\n",
       "      <td>9.63</td>\n",
       "      <td>7.825702</td>\n",
       "    </tr>\n",
       "    <tr>\n",
       "      <th>1</th>\n",
       "      <td>9.63</td>\n",
       "      <td>8.95</td>\n",
       "      <td>8.127500</td>\n",
       "    </tr>\n",
       "    <tr>\n",
       "      <th>2</th>\n",
       "      <td>8.95</td>\n",
       "      <td>8.07</td>\n",
       "      <td>7.587440</td>\n",
       "    </tr>\n",
       "    <tr>\n",
       "      <th>3</th>\n",
       "      <td>8.07</td>\n",
       "      <td>7.37</td>\n",
       "      <td>6.888540</td>\n",
       "    </tr>\n",
       "    <tr>\n",
       "      <th>4</th>\n",
       "      <td>7.37</td>\n",
       "      <td>6.17</td>\n",
       "      <td>6.332597</td>\n",
       "    </tr>\n",
       "    <tr>\n",
       "      <th>5</th>\n",
       "      <td>6.17</td>\n",
       "      <td>5.28</td>\n",
       "      <td>5.379551</td>\n",
       "    </tr>\n",
       "    <tr>\n",
       "      <th>6</th>\n",
       "      <td>5.28</td>\n",
       "      <td>4.87</td>\n",
       "      <td>4.672709</td>\n",
       "    </tr>\n",
       "    <tr>\n",
       "      <th>7</th>\n",
       "      <td>4.87</td>\n",
       "      <td>4.36</td>\n",
       "      <td>4.347085</td>\n",
       "    </tr>\n",
       "    <tr>\n",
       "      <th>8</th>\n",
       "      <td>4.36</td>\n",
       "      <td>3.90</td>\n",
       "      <td>3.941779</td>\n",
       "    </tr>\n",
       "    <tr>\n",
       "      <th>9</th>\n",
       "      <td>3.90</td>\n",
       "      <td>3.67</td>\n",
       "      <td>3.575361</td>\n",
       "    </tr>\n",
       "    <tr>\n",
       "      <th>10</th>\n",
       "      <td>3.67</td>\n",
       "      <td>8.05</td>\n",
       "      <td>3.392153</td>\n",
       "    </tr>\n",
       "    <tr>\n",
       "      <th>11</th>\n",
       "      <td>8.05</td>\n",
       "      <td>5.35</td>\n",
       "      <td>6.872656</td>\n",
       "    </tr>\n",
       "  </tbody>\n",
       "</table>\n",
       "</div>"
      ],
      "text/plain": [
       "    X_test  Y_test    Y_pred\n",
       "0     9.25    9.63  7.825702\n",
       "1     9.63    8.95  8.127500\n",
       "2     8.95    8.07  7.587440\n",
       "3     8.07    7.37  6.888540\n",
       "4     7.37    6.17  6.332597\n",
       "5     6.17    5.28  5.379551\n",
       "6     5.28    4.87  4.672709\n",
       "7     4.87    4.36  4.347085\n",
       "8     4.36    3.90  3.941779\n",
       "9     3.90    3.67  3.575361\n",
       "10    3.67    8.05  3.392153\n",
       "11    8.05    5.35  6.872656"
      ]
     },
     "execution_count": 13,
     "metadata": {},
     "output_type": "execute_result"
    }
   ],
   "source": [
    "Y_pred = model.predict(X_test).reshape(X_test.shape[0])\n",
    "res = pd.DataFrame({'X_test': X_test.reshape(X_test.shape[0]), \n",
    "                    'Y_test': Y_test.reshape(Y_test.shape[0]), \n",
    "                    'Y_pred': Y_pred.reshape(Y_pred.shape[0])})\n",
    "res"
   ]
  },
  {
   "cell_type": "code",
   "execution_count": 14,
   "id": "0142181b-9f5f-4230-b132-23a715ce9e6b",
   "metadata": {},
   "outputs": [
    {
     "data": {
      "text/plain": [
       "<AxesSubplot: >"
      ]
     },
     "execution_count": 14,
     "metadata": {},
     "output_type": "execute_result"
    },
    {
     "data": {
      "image/png": "[encoded data removed]",
      "text/plain": [
       "<Figure size 640x480 with 1 Axes>"
      ]
     },
     "metadata": {},
     "output_type": "display_data"
    }
   ],
   "source": [
    "res.plot()"
   ]
  },
  {
   "cell_type": "code",
   "execution_count": null,
   "id": "8d934b0f-a8d6-443e-ad3c-70ab67b23db5",
   "metadata": {},
   "outputs": [],
   "source": []
  },
  {
   "cell_type": "code",
   "execution_count": null,
   "id": "dd80d520-212a-4932-bf88-5bfb2687aa93",
   "metadata": {},
   "outputs": [],
   "source": []
  }
 ],
 "metadata": {
  "kernelspec": {
   "display_name": "Python 3 (ipykernel)",
   "language": "python",
   "name": "python3"
  },
  "language_info": {
   "codemirror_mode": {
    "name": "ipython",
    "version": 3
   },
   "file_extension": ".py",
   "mimetype": "text/x-python",
   "name": "python",
   "nbconvert_exporter": "python",
   "pygments_lexer": "ipython3",
   "version": "3.10.8"
  }
 },
 "nbformat": 4,
 "nbformat_minor": 5
}
