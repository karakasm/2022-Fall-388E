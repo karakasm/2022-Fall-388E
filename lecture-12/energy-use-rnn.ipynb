{
 "cells": [
  {
   "cell_type": "code",
   "execution_count": 1,
   "id": "b5f088b1-28a3-4f0b-801e-135bbfc39b5a",
   "metadata": {},
   "outputs": [
    {
     "name": "stderr",
     "output_type": "stream",
     "text": [
      "2022-12-12 12:31:23.365152: I tensorflow/core/platform/cpu_feature_guard.cc:193] This TensorFlow binary is optimized with oneAPI Deep Neural Network Library (oneDNN) to use the following CPU instructions in performance-critical operations:  AVX2 FMA\n",
      "To enable them in other operations, rebuild TensorFlow with the appropriate compiler flags.\n",
      "2022-12-12 12:31:23.612236: W tensorflow/compiler/xla/stream_executor/platform/default/dso_loader.cc:64] Could not load dynamic library 'libcudart.so.11.0'; dlerror: libcudart.so.11.0: cannot open shared object file: No such file or directory; LD_LIBRARY_PATH: /home/kaygun/local/lib\n",
      "2022-12-12 12:31:23.612292: I tensorflow/compiler/xla/stream_executor/cuda/cudart_stub.cc:29] Ignore above cudart dlerror if you do not have a GPU set up on your machine.\n",
      "2022-12-12 12:31:24.792519: W tensorflow/compiler/xla/stream_executor/platform/default/dso_loader.cc:64] Could not load dynamic library 'libnvinfer.so.7'; dlerror: libnvinfer.so.7: cannot open shared object file: No such file or directory; LD_LIBRARY_PATH: /home/kaygun/local/lib\n",
      "2022-12-12 12:31:24.792597: W tensorflow/compiler/xla/stream_executor/platform/default/dso_loader.cc:64] Could not load dynamic library 'libnvinfer_plugin.so.7'; dlerror: libnvinfer_plugin.so.7: cannot open shared object file: No such file or directory; LD_LIBRARY_PATH: /home/kaygun/local/lib\n",
      "2022-12-12 12:31:24.792603: W tensorflow/compiler/tf2tensorrt/utils/py_utils.cc:38] TF-TRT Warning: Cannot dlopen some TensorRT libraries. If you would like to use Nvidia GPU with TensorRT, please make sure the missing libraries mentioned above are installed properly.\n"
     ]
    }
   ],
   "source": [
    "import numpy as np\n",
    "import pandas as pd\n",
    "import yfinance as yf\n",
    "import wbgapi as wb\n",
    "\n",
    "import tensorflow as tf\n",
    "from tensorflow.keras.models import Sequential\n",
    "from tensorflow.keras.layers import Dense, LSTM, RNN, Dropout, SimpleRNN\n",
    "\n",
    "from sklearn.preprocessing import MinMaxScaler\n",
    "from sklearn.metrics import mean_squared_error\n",
    "\n",
    "from keras.callbacks import EarlyStopping\n",
    "\n",
    "import matplotlib.pyplot as plt"
   ]
  },
  {
   "cell_type": "code",
   "execution_count": 2,
   "id": "6d390165-75f0-44db-92f6-4d8743ea2747",
   "metadata": {},
   "outputs": [],
   "source": [
    "def load_data(ID,ec,T):\n",
    "    data = wb.data.DataFrame(ID,economy=ec).T\n",
    "    data.dropna(inplace=True)\n",
    "    N = data.shape[0]\n",
    "    raw = data[ec].to_numpy().reshape(N,1,)\n",
    "    Y_train = raw[1:N-T]\n",
    "    X_train = raw[:N-T-1]\n",
    "    Y_test = raw[N-T:]\n",
    "    X_test = raw[N-T-1:N-1]\n",
    "    return X_train,X_test,Y_train,Y_test"
   ]
  },
  {
   "cell_type": "code",
   "execution_count": 3,
   "id": "42e6642e-e453-4518-8aaa-9bc1de011488",
   "metadata": {},
   "outputs": [],
   "source": [
    "X_train,X_test,Y_train,Y_test = load_data('EG.USE.PCAP.KG.OE','TUR',15)"
   ]
  },
  {
   "cell_type": "code",
   "execution_count": 4,
   "id": "e4eb2b50-71d4-4eda-a4f0-7ca897798288",
   "metadata": {},
   "outputs": [
    {
     "name": "stderr",
     "output_type": "stream",
     "text": [
      "2022-12-12 12:31:33.947419: W tensorflow/compiler/xla/stream_executor/platform/default/dso_loader.cc:64] Could not load dynamic library 'libcuda.so.1'; dlerror: libcuda.so.1: cannot open shared object file: No such file or directory; LD_LIBRARY_PATH: /home/kaygun/local/lib\n",
      "2022-12-12 12:31:33.947492: W tensorflow/compiler/xla/stream_executor/cuda/cuda_driver.cc:265] failed call to cuInit: UNKNOWN ERROR (303)\n",
      "2022-12-12 12:31:33.947525: I tensorflow/compiler/xla/stream_executor/cuda/cuda_diagnostics.cc:156] kernel driver does not appear to be running on this host (ada): /proc/driver/nvidia/version does not exist\n",
      "2022-12-12 12:31:33.947921: I tensorflow/core/platform/cpu_feature_guard.cc:193] This TensorFlow binary is optimized with oneAPI Deep Neural Network Library (oneDNN) to use the following CPU instructions in performance-critical operations:  AVX2 FMA\n",
      "To enable them in other operations, rebuild TensorFlow with the appropriate compiler flags.\n"
     ]
    }
   ],
   "source": [
    "model = Sequential()\n",
    "model.add(SimpleRNN(128, input_shape = (1,1), activation = 'relu'))\n",
    "model.add(Dropout(0.5))\n",
    "model.add(Dense(1, activation='linear'))\n",
    "\n",
    "early = EarlyStopping(monitor = \"val_loss\", mode = \"min\", patience = 4)\n",
    "callbacks_list = [early]\n",
    "    \n",
    "model.compile(loss = 'mape', optimizer = 'adam', metrics = ['mse'])"
   ]
  },
  {
   "cell_type": "code",
   "execution_count": 5,
   "id": "d31103b6-f6f9-4506-a8df-642259f15485",
   "metadata": {},
   "outputs": [
    {
     "name": "stdout",
     "output_type": "stream",
     "text": [
      "Epoch 1/10\n",
      "8/8 [==============================] - 4s 107ms/step - loss: 90.8406 - mse: 520756.8125 - val_loss: 86.7064 - val_mse: 1468284.5000\n",
      "Epoch 2/10\n",
      "8/8 [==============================] - 0s 23ms/step - loss: 80.3804 - mse: 420834.8125 - val_loss: 77.7228 - val_mse: 1180897.1250\n",
      "Epoch 3/10\n",
      "8/8 [==============================] - 0s 21ms/step - loss: 75.4067 - mse: 374722.6875 - val_loss: 68.5173 - val_mse: 918931.8750\n",
      "Epoch 4/10\n",
      "8/8 [==============================] - 0s 17ms/step - loss: 62.7285 - mse: 245830.1562 - val_loss: 58.9384 - val_mse: 681291.1875\n",
      "Epoch 5/10\n",
      "8/8 [==============================] - 0s 15ms/step - loss: 51.2448 - mse: 171942.2969 - val_loss: 48.9948 - val_mse: 472307.1562\n",
      "Epoch 6/10\n",
      "8/8 [==============================] - 0s 15ms/step - loss: 42.4881 - mse: 121454.5625 - val_loss: 38.5072 - val_mse: 293509.5312\n",
      "Epoch 7/10\n",
      "8/8 [==============================] - 0s 24ms/step - loss: 30.0246 - mse: 64169.0859 - val_loss: 27.6475 - val_mse: 153395.2969\n",
      "Epoch 8/10\n",
      "8/8 [==============================] - 0s 16ms/step - loss: 24.2488 - mse: 49412.8555 - val_loss: 17.0000 - val_mse: 60499.6992\n",
      "Epoch 9/10\n",
      "8/8 [==============================] - 0s 17ms/step - loss: 17.0181 - mse: 32094.3008 - val_loss: 8.2930 - val_mse: 15901.9277\n",
      "Epoch 10/10\n",
      "8/8 [==============================] - 0s 15ms/step - loss: 13.8851 - mse: 21529.8320 - val_loss: 4.2543 - val_mse: 4243.3818\n"
     ]
    },
    {
     "data": {
      "text/plain": [
       "<keras.callbacks.History at 0x7f7ea02a8040>"
      ]
     },
     "execution_count": 5,
     "metadata": {},
     "output_type": "execute_result"
    }
   ],
   "source": [
    "model.fit(X_train,Y_train,epochs=10,batch_size=5,verbose=1,validation_data=(X_test,Y_test))"
   ]
  },
  {
   "cell_type": "code",
   "execution_count": 6,
   "id": "7cb4a2cb-974a-4c77-9694-6f1fa765a29b",
   "metadata": {},
   "outputs": [
    {
     "name": "stdout",
     "output_type": "stream",
     "text": [
      "1/1 [==============================] - 0s 389ms/step\n"
     ]
    },
    {
     "data": {
      "text/html": [
       "<div>\n",
       "<style scoped>\n",
       "    .dataframe tbody tr th:only-of-type {\n",
       "        vertical-align: middle;\n",
       "    }\n",
       "\n",
       "    .dataframe tbody tr th {\n",
       "        vertical-align: top;\n",
       "    }\n",
       "\n",
       "    .dataframe thead th {\n",
       "        text-align: right;\n",
       "    }\n",
       "</style>\n",
       "<table border=\"1\" class=\"dataframe\">\n",
       "  <thead>\n",
       "    <tr style=\"text-align: right;\">\n",
       "      <th></th>\n",
       "      <th>X_test</th>\n",
       "      <th>Y_test</th>\n",
       "      <th>Y_pred</th>\n",
       "    </tr>\n",
       "  </thead>\n",
       "  <tbody>\n",
       "    <tr>\n",
       "      <th>0</th>\n",
       "      <td>1201.085873</td>\n",
       "      <td>1094.184604</td>\n",
       "      <td>1202.823853</td>\n",
       "    </tr>\n",
       "    <tr>\n",
       "      <th>1</th>\n",
       "      <td>1094.184604</td>\n",
       "      <td>1139.352172</td>\n",
       "      <td>1095.817871</td>\n",
       "    </tr>\n",
       "    <tr>\n",
       "      <th>2</th>\n",
       "      <td>1139.352172</td>\n",
       "      <td>1178.379689</td>\n",
       "      <td>1141.029663</td>\n",
       "    </tr>\n",
       "    <tr>\n",
       "      <th>3</th>\n",
       "      <td>1178.379689</td>\n",
       "      <td>1204.666657</td>\n",
       "      <td>1180.095337</td>\n",
       "    </tr>\n",
       "    <tr>\n",
       "      <th>4</th>\n",
       "      <td>1204.666657</td>\n",
       "      <td>1240.165417</td>\n",
       "      <td>1206.408203</td>\n",
       "    </tr>\n",
       "    <tr>\n",
       "      <th>5</th>\n",
       "      <td>1240.165417</td>\n",
       "      <td>1354.807027</td>\n",
       "      <td>1241.941772</td>\n",
       "    </tr>\n",
       "    <tr>\n",
       "      <th>6</th>\n",
       "      <td>1354.807027</td>\n",
       "      <td>1437.163301</td>\n",
       "      <td>1356.695679</td>\n",
       "    </tr>\n",
       "    <tr>\n",
       "      <th>7</th>\n",
       "      <td>1437.163301</td>\n",
       "      <td>1401.775400</td>\n",
       "      <td>1439.132690</td>\n",
       "    </tr>\n",
       "    <tr>\n",
       "      <th>8</th>\n",
       "      <td>1401.775400</td>\n",
       "      <td>1371.130205</td>\n",
       "      <td>1403.710083</td>\n",
       "    </tr>\n",
       "    <tr>\n",
       "      <th>9</th>\n",
       "      <td>1371.130205</td>\n",
       "      <td>1474.668102</td>\n",
       "      <td>1373.034790</td>\n",
       "    </tr>\n",
       "    <tr>\n",
       "      <th>10</th>\n",
       "      <td>1474.668102</td>\n",
       "      <td>1545.491748</td>\n",
       "      <td>1476.674194</td>\n",
       "    </tr>\n",
       "    <tr>\n",
       "      <th>11</th>\n",
       "      <td>1545.491748</td>\n",
       "      <td>1583.676202</td>\n",
       "      <td>1547.567261</td>\n",
       "    </tr>\n",
       "    <tr>\n",
       "      <th>12</th>\n",
       "      <td>1583.676202</td>\n",
       "      <td>1540.161327</td>\n",
       "      <td>1585.789062</td>\n",
       "    </tr>\n",
       "    <tr>\n",
       "      <th>13</th>\n",
       "      <td>1540.161327</td>\n",
       "      <td>1573.769797</td>\n",
       "      <td>1542.231689</td>\n",
       "    </tr>\n",
       "    <tr>\n",
       "      <th>14</th>\n",
       "      <td>1573.769797</td>\n",
       "      <td>1651.361370</td>\n",
       "      <td>1575.872925</td>\n",
       "    </tr>\n",
       "  </tbody>\n",
       "</table>\n",
       "</div>"
      ],
      "text/plain": [
       "         X_test       Y_test       Y_pred\n",
       "0   1201.085873  1094.184604  1202.823853\n",
       "1   1094.184604  1139.352172  1095.817871\n",
       "2   1139.352172  1178.379689  1141.029663\n",
       "3   1178.379689  1204.666657  1180.095337\n",
       "4   1204.666657  1240.165417  1206.408203\n",
       "5   1240.165417  1354.807027  1241.941772\n",
       "6   1354.807027  1437.163301  1356.695679\n",
       "7   1437.163301  1401.775400  1439.132690\n",
       "8   1401.775400  1371.130205  1403.710083\n",
       "9   1371.130205  1474.668102  1373.034790\n",
       "10  1474.668102  1545.491748  1476.674194\n",
       "11  1545.491748  1583.676202  1547.567261\n",
       "12  1583.676202  1540.161327  1585.789062\n",
       "13  1540.161327  1573.769797  1542.231689\n",
       "14  1573.769797  1651.361370  1575.872925"
      ]
     },
     "execution_count": 6,
     "metadata": {},
     "output_type": "execute_result"
    }
   ],
   "source": [
    "Y_pred = model.predict(X_test).reshape(X_test.shape[0])\n",
    "res = pd.DataFrame({'X_test': X_test.reshape(X_test.shape[0]), \n",
    "                    'Y_test': Y_test.reshape(Y_test.shape[0]), \n",
    "                    'Y_pred': Y_pred.reshape(Y_pred.shape[0])})\n",
    "res"
   ]
  },
  {
   "cell_type": "code",
   "execution_count": 7,
   "id": "0142181b-9f5f-4230-b132-23a715ce9e6b",
   "metadata": {},
   "outputs": [
    {
     "data": {
      "text/plain": [
       "<AxesSubplot: >"
      ]
     },
     "execution_count": 7,
     "metadata": {},
     "output_type": "execute_result"
    },
    {
     "data": {
      "image/png": "[encoded data removed]",
      "text/plain": [
       "<Figure size 640x480 with 1 Axes>"
      ]
     },
     "metadata": {},
     "output_type": "display_data"
    }
   ],
   "source": [
    "res.plot()"
   ]
  },
  {
   "cell_type": "code",
   "execution_count": null,
   "id": "8d934b0f-a8d6-443e-ad3c-70ab67b23db5",
   "metadata": {},
   "outputs": [],
   "source": []
  },
  {
   "cell_type": "code",
   "execution_count": null,
   "id": "dd80d520-212a-4932-bf88-5bfb2687aa93",
   "metadata": {},
   "outputs": [],
   "source": []
  }
 ],
 "metadata": {
  "kernelspec": {
   "display_name": "Python 3 (ipykernel)",
   "language": "python",
   "name": "python3"
  },
  "language_info": {
   "codemirror_mode": {
    "name": "ipython",
    "version": 3
   },
   "file_extension": ".py",
   "mimetype": "text/x-python",
   "name": "python",
   "nbconvert_exporter": "python",
   "pygments_lexer": "ipython3",
   "version": "3.10.8"
  }
 },
 "nbformat": 4,
 "nbformat_minor": 5
}
