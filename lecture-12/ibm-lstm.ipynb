{
 "cells": [
  {
   "cell_type": "code",
   "execution_count": 9,
   "id": "f7fd07b5-381c-4f0d-98cf-80aabf22673b",
   "metadata": {},
   "outputs": [],
   "source": [
    "import numpy as np\n",
    "import pandas as pd\n",
    "import yfinance as yf\n",
    "\n",
    "import tensorflow as tf\n",
    "from tensorflow.keras.models import Sequential\n",
    "from tensorflow.keras.layers import Dense, LSTM, Dropout, RNN\n",
    "\n",
    "from sklearn.preprocessing import MinMaxScaler\n",
    "from sklearn.metrics import mean_squared_error\n",
    "\n",
    "import matplotlib.pyplot as plt"
   ]
  },
  {
   "cell_type": "code",
   "execution_count": 10,
   "id": "b537956b-2edf-4de1-a3f8-c058d4ca448a",
   "metadata": {},
   "outputs": [
    {
     "name": "stdout",
     "output_type": "stream",
     "text": [
      "[*********************100%***********************]  1 of 1 completed\n"
     ]
    },
    {
     "data": {
      "text/html": [
       "<div>\n",
       "<style scoped>\n",
       "    .dataframe tbody tr th:only-of-type {\n",
       "        vertical-align: middle;\n",
       "    }\n",
       "\n",
       "    .dataframe tbody tr th {\n",
       "        vertical-align: top;\n",
       "    }\n",
       "\n",
       "    .dataframe thead th {\n",
       "        text-align: right;\n",
       "    }\n",
       "</style>\n",
       "<table border=\"1\" class=\"dataframe\">\n",
       "  <thead>\n",
       "    <tr style=\"text-align: right;\">\n",
       "      <th></th>\n",
       "      <th>Open</th>\n",
       "      <th>High</th>\n",
       "      <th>Low</th>\n",
       "      <th>Close</th>\n",
       "      <th>Adj Close</th>\n",
       "      <th>Volume</th>\n",
       "    </tr>\n",
       "    <tr>\n",
       "      <th>Date</th>\n",
       "      <th></th>\n",
       "      <th></th>\n",
       "      <th></th>\n",
       "      <th></th>\n",
       "      <th></th>\n",
       "      <th></th>\n",
       "    </tr>\n",
       "  </thead>\n",
       "  <tbody>\n",
       "    <tr>\n",
       "      <th>2015-01-02</th>\n",
       "      <td>154.216064</td>\n",
       "      <td>156.128113</td>\n",
       "      <td>153.919693</td>\n",
       "      <td>154.933075</td>\n",
       "      <td>109.477043</td>\n",
       "      <td>5779673</td>\n",
       "    </tr>\n",
       "    <tr>\n",
       "      <th>2015-01-05</th>\n",
       "      <td>154.177826</td>\n",
       "      <td>154.177826</td>\n",
       "      <td>152.189301</td>\n",
       "      <td>152.495224</td>\n",
       "      <td>107.754433</td>\n",
       "      <td>5104898</td>\n",
       "    </tr>\n",
       "    <tr>\n",
       "      <th>2015-01-06</th>\n",
       "      <td>152.648178</td>\n",
       "      <td>152.925430</td>\n",
       "      <td>148.346085</td>\n",
       "      <td>149.206497</td>\n",
       "      <td>105.430595</td>\n",
       "      <td>6429448</td>\n",
       "    </tr>\n",
       "    <tr>\n",
       "      <th>2015-01-07</th>\n",
       "      <td>150.286804</td>\n",
       "      <td>150.286804</td>\n",
       "      <td>147.256210</td>\n",
       "      <td>148.231354</td>\n",
       "      <td>104.741531</td>\n",
       "      <td>4918083</td>\n",
       "    </tr>\n",
       "    <tr>\n",
       "      <th>2015-01-08</th>\n",
       "      <td>149.369019</td>\n",
       "      <td>152.045883</td>\n",
       "      <td>148.709366</td>\n",
       "      <td>151.453156</td>\n",
       "      <td>107.018074</td>\n",
       "      <td>4431693</td>\n",
       "    </tr>\n",
       "    <tr>\n",
       "      <th>...</th>\n",
       "      <td>...</td>\n",
       "      <td>...</td>\n",
       "      <td>...</td>\n",
       "      <td>...</td>\n",
       "      <td>...</td>\n",
       "      <td>...</td>\n",
       "    </tr>\n",
       "    <tr>\n",
       "      <th>2022-11-23</th>\n",
       "      <td>149.100006</td>\n",
       "      <td>150.460007</td>\n",
       "      <td>148.300003</td>\n",
       "      <td>148.750000</td>\n",
       "      <td>148.750000</td>\n",
       "      <td>3658200</td>\n",
       "    </tr>\n",
       "    <tr>\n",
       "      <th>2022-11-25</th>\n",
       "      <td>148.270004</td>\n",
       "      <td>149.490005</td>\n",
       "      <td>148.100006</td>\n",
       "      <td>148.369995</td>\n",
       "      <td>148.369995</td>\n",
       "      <td>2075200</td>\n",
       "    </tr>\n",
       "    <tr>\n",
       "      <th>2022-11-28</th>\n",
       "      <td>147.979996</td>\n",
       "      <td>148.240005</td>\n",
       "      <td>145.940002</td>\n",
       "      <td>146.179993</td>\n",
       "      <td>146.179993</td>\n",
       "      <td>3538100</td>\n",
       "    </tr>\n",
       "    <tr>\n",
       "      <th>2022-11-29</th>\n",
       "      <td>145.910004</td>\n",
       "      <td>147.169998</td>\n",
       "      <td>145.699997</td>\n",
       "      <td>146.490005</td>\n",
       "      <td>146.490005</td>\n",
       "      <td>2754700</td>\n",
       "    </tr>\n",
       "    <tr>\n",
       "      <th>2022-11-30</th>\n",
       "      <td>146.190002</td>\n",
       "      <td>149.639999</td>\n",
       "      <td>145.669998</td>\n",
       "      <td>148.899994</td>\n",
       "      <td>148.899994</td>\n",
       "      <td>6376500</td>\n",
       "    </tr>\n",
       "  </tbody>\n",
       "</table>\n",
       "<p>1993 rows × 6 columns</p>\n",
       "</div>"
      ],
      "text/plain": [
       "                  Open        High         Low       Close   Adj Close  \\\n",
       "Date                                                                     \n",
       "2015-01-02  154.216064  156.128113  153.919693  154.933075  109.477043   \n",
       "2015-01-05  154.177826  154.177826  152.189301  152.495224  107.754433   \n",
       "2015-01-06  152.648178  152.925430  148.346085  149.206497  105.430595   \n",
       "2015-01-07  150.286804  150.286804  147.256210  148.231354  104.741531   \n",
       "2015-01-08  149.369019  152.045883  148.709366  151.453156  107.018074   \n",
       "...                ...         ...         ...         ...         ...   \n",
       "2022-11-23  149.100006  150.460007  148.300003  148.750000  148.750000   \n",
       "2022-11-25  148.270004  149.490005  148.100006  148.369995  148.369995   \n",
       "2022-11-28  147.979996  148.240005  145.940002  146.179993  146.179993   \n",
       "2022-11-29  145.910004  147.169998  145.699997  146.490005  146.490005   \n",
       "2022-11-30  146.190002  149.639999  145.669998  148.899994  148.899994   \n",
       "\n",
       "             Volume  \n",
       "Date                 \n",
       "2015-01-02  5779673  \n",
       "2015-01-05  5104898  \n",
       "2015-01-06  6429448  \n",
       "2015-01-07  4918083  \n",
       "2015-01-08  4431693  \n",
       "...             ...  \n",
       "2022-11-23  3658200  \n",
       "2022-11-25  2075200  \n",
       "2022-11-28  3538100  \n",
       "2022-11-29  2754700  \n",
       "2022-11-30  6376500  \n",
       "\n",
       "[1993 rows x 6 columns]"
      ]
     },
     "execution_count": 10,
     "metadata": {},
     "output_type": "execute_result"
    }
   ],
   "source": [
    "data = yf.download('IBM', start='2015-01-01', end='2022-12-01')\n",
    "data"
   ]
  },
  {
   "cell_type": "code",
   "execution_count": 11,
   "id": "0aa48f18-21aa-43d5-b966-f2055ecf2d61",
   "metadata": {},
   "outputs": [],
   "source": [
    "def load_data(data,T):\n",
    "    N = data.shape[0]\n",
    "    raw = data.to_numpy().reshape(N,1,)\n",
    "    Y_train = raw[1:N-T]\n",
    "    X_train = raw[:N-T-1]\n",
    "    Y_test = raw[N-T:]\n",
    "    X_test = raw[N-T-1:N-1]\n",
    "    return X_train,X_test,Y_train,Y_test"
   ]
  },
  {
   "cell_type": "code",
   "execution_count": 12,
   "id": "5c76fdc9-feb6-4c47-9fcc-5ae47f1e9692",
   "metadata": {},
   "outputs": [],
   "source": [
    "X_train,X_test,Y_train,Y_test = load_data(data['Open'],12)"
   ]
  },
  {
   "cell_type": "code",
   "execution_count": 13,
   "id": "1e5e62c4-0375-4223-9284-7bed440847e0",
   "metadata": {},
   "outputs": [],
   "source": [
    "model = Sequential()\n",
    "model.add(LSTM(50, return_sequences=True, input_shape=(1,1)))\n",
    "model.add(Dropout(0.1))\n",
    "model.add(Dense(100, activation='relu'))\n",
    "model.add(Dropout(0.05))\n",
    "model.add(Dense(1, activation = 'relu'))\n",
    "\n",
    "model.compile(loss='mape', optimizer='adam', metrics = ['mse'])"
   ]
  },
  {
   "cell_type": "code",
   "execution_count": 14,
   "id": "6658c313-25cf-4317-989b-b1185de681a2",
   "metadata": {
    "tags": []
   },
   "outputs": [
    {
     "name": "stdout",
     "output_type": "stream",
     "text": [
      "Epoch 1/10\n",
      "396/396 [==============================] - 9s 10ms/step - loss: 37.2944 - mse: 5200.2842 - val_loss: 8.0980 - val_mse: 142.9275\n",
      "Epoch 2/10\n",
      "396/396 [==============================] - 3s 8ms/step - loss: 7.5312 - mse: 166.6005 - val_loss: 3.7024 - val_mse: 31.0071\n",
      "Epoch 3/10\n",
      "396/396 [==============================] - 3s 7ms/step - loss: 6.6746 - mse: 134.6499 - val_loss: 12.3569 - val_mse: 327.6711\n",
      "Epoch 4/10\n",
      "396/396 [==============================] - 3s 7ms/step - loss: 6.5148 - mse: 126.4664 - val_loss: 3.4921 - val_mse: 27.4322\n",
      "Epoch 5/10\n",
      "396/396 [==============================] - 3s 7ms/step - loss: 6.3865 - mse: 120.2561 - val_loss: 6.1015 - val_mse: 80.8464\n",
      "Epoch 6/10\n",
      "396/396 [==============================] - 3s 8ms/step - loss: 6.4646 - mse: 125.6695 - val_loss: 7.5094 - val_mse: 121.7913\n",
      "Epoch 7/10\n",
      "396/396 [==============================] - 3s 8ms/step - loss: 5.9153 - mse: 105.0477 - val_loss: 8.0069 - val_mse: 138.2842\n",
      "Epoch 8/10\n",
      "396/396 [==============================] - 3s 8ms/step - loss: 5.7424 - mse: 100.9161 - val_loss: 1.3967 - val_mse: 5.4236\n",
      "Epoch 9/10\n",
      "396/396 [==============================] - 3s 7ms/step - loss: 5.8781 - mse: 100.9238 - val_loss: 4.4586 - val_mse: 43.7392\n",
      "Epoch 10/10\n",
      "396/396 [==============================] - 3s 7ms/step - loss: 5.6249 - mse: 92.3194 - val_loss: 0.9229 - val_mse: 2.6556\n"
     ]
    },
    {
     "data": {
      "text/plain": [
       "<keras.callbacks.History at 0x7f422fda18d0>"
      ]
     },
     "execution_count": 14,
     "metadata": {},
     "output_type": "execute_result"
    }
   ],
   "source": [
    "model.fit(X_train,Y_train,epochs=10,batch_size=5,validation_data=(X_test,Y_test),verbose=1)"
   ]
  },
  {
   "cell_type": "code",
   "execution_count": 15,
   "id": "d5add09d-ab98-490c-b702-447ca8bfd822",
   "metadata": {},
   "outputs": [
    {
     "name": "stdout",
     "output_type": "stream",
     "text": [
      "1/1 [==============================] - 1s 1s/step\n"
     ]
    },
    {
     "data": {
      "text/html": [
       "<div>\n",
       "<style scoped>\n",
       "    .dataframe tbody tr th:only-of-type {\n",
       "        vertical-align: middle;\n",
       "    }\n",
       "\n",
       "    .dataframe tbody tr th {\n",
       "        vertical-align: top;\n",
       "    }\n",
       "\n",
       "    .dataframe thead th {\n",
       "        text-align: right;\n",
       "    }\n",
       "</style>\n",
       "<table border=\"1\" class=\"dataframe\">\n",
       "  <thead>\n",
       "    <tr style=\"text-align: right;\">\n",
       "      <th></th>\n",
       "      <th>X_test</th>\n",
       "      <th>Y_test</th>\n",
       "      <th>Y_pred</th>\n",
       "    </tr>\n",
       "  </thead>\n",
       "  <tbody>\n",
       "    <tr>\n",
       "      <th>0</th>\n",
       "      <td>141.500000</td>\n",
       "      <td>142.630005</td>\n",
       "      <td>142.116623</td>\n",
       "    </tr>\n",
       "    <tr>\n",
       "      <th>1</th>\n",
       "      <td>142.630005</td>\n",
       "      <td>144.080002</td>\n",
       "      <td>142.886597</td>\n",
       "    </tr>\n",
       "    <tr>\n",
       "      <th>2</th>\n",
       "      <td>144.080002</td>\n",
       "      <td>144.130005</td>\n",
       "      <td>143.859695</td>\n",
       "    </tr>\n",
       "    <tr>\n",
       "      <th>3</th>\n",
       "      <td>144.130005</td>\n",
       "      <td>143.410004</td>\n",
       "      <td>143.892929</td>\n",
       "    </tr>\n",
       "    <tr>\n",
       "      <th>4</th>\n",
       "      <td>143.410004</td>\n",
       "      <td>146.559998</td>\n",
       "      <td>143.412125</td>\n",
       "    </tr>\n",
       "    <tr>\n",
       "      <th>5</th>\n",
       "      <td>146.559998</td>\n",
       "      <td>147.550003</td>\n",
       "      <td>145.485580</td>\n",
       "    </tr>\n",
       "    <tr>\n",
       "      <th>6</th>\n",
       "      <td>147.550003</td>\n",
       "      <td>147.600006</td>\n",
       "      <td>146.121262</td>\n",
       "    </tr>\n",
       "    <tr>\n",
       "      <th>7</th>\n",
       "      <td>147.600006</td>\n",
       "      <td>149.100006</td>\n",
       "      <td>146.153183</td>\n",
       "    </tr>\n",
       "    <tr>\n",
       "      <th>8</th>\n",
       "      <td>149.100006</td>\n",
       "      <td>148.270004</td>\n",
       "      <td>147.101532</td>\n",
       "    </tr>\n",
       "    <tr>\n",
       "      <th>9</th>\n",
       "      <td>148.270004</td>\n",
       "      <td>147.979996</td>\n",
       "      <td>146.578888</td>\n",
       "    </tr>\n",
       "    <tr>\n",
       "      <th>10</th>\n",
       "      <td>147.979996</td>\n",
       "      <td>145.910004</td>\n",
       "      <td>146.395050</td>\n",
       "    </tr>\n",
       "    <tr>\n",
       "      <th>11</th>\n",
       "      <td>145.910004</td>\n",
       "      <td>146.190002</td>\n",
       "      <td>145.064072</td>\n",
       "    </tr>\n",
       "  </tbody>\n",
       "</table>\n",
       "</div>"
      ],
      "text/plain": [
       "        X_test      Y_test      Y_pred\n",
       "0   141.500000  142.630005  142.116623\n",
       "1   142.630005  144.080002  142.886597\n",
       "2   144.080002  144.130005  143.859695\n",
       "3   144.130005  143.410004  143.892929\n",
       "4   143.410004  146.559998  143.412125\n",
       "5   146.559998  147.550003  145.485580\n",
       "6   147.550003  147.600006  146.121262\n",
       "7   147.600006  149.100006  146.153183\n",
       "8   149.100006  148.270004  147.101532\n",
       "9   148.270004  147.979996  146.578888\n",
       "10  147.979996  145.910004  146.395050\n",
       "11  145.910004  146.190002  145.064072"
      ]
     },
     "execution_count": 15,
     "metadata": {},
     "output_type": "execute_result"
    }
   ],
   "source": [
    "Y_pred = model.predict(X_test)\n",
    "res = pd.DataFrame({'X_test': X_test.reshape(X_test.shape[0]), \n",
    "                    'Y_test': Y_test.reshape(Y_test.shape[0]), \n",
    "                    'Y_pred': Y_pred.reshape(Y_pred.shape[0])})\n",
    "res"
   ]
  },
  {
   "cell_type": "code",
   "execution_count": 17,
   "id": "bce8d74d-5da0-4392-aa9c-3a1c15a420c6",
   "metadata": {},
   "outputs": [
    {
     "name": "stdout",
     "output_type": "stream",
     "text": [
      "1/1 [==============================] - 0s 47ms/step - loss: 0.9229 - mse: 2.6556\n"
     ]
    },
    {
     "data": {
      "text/plain": [
       "[0.922938883304596, 2.6555731296539307]"
      ]
     },
     "execution_count": 17,
     "metadata": {},
     "output_type": "execute_result"
    }
   ],
   "source": [
    "model.evaluate(X_test, Y_test, batch_size = 32) "
   ]
  },
  {
   "cell_type": "code",
   "execution_count": 18,
   "id": "424b0e7d-b752-424e-a232-af56c8e4962d",
   "metadata": {},
   "outputs": [
    {
     "data": {
      "text/plain": [
       "<AxesSubplot: >"
      ]
     },
     "execution_count": 18,
     "metadata": {},
     "output_type": "execute_result"
    },
    {
     "data": {
      "image/png": "[encoded data removed]",
      "text/plain": [
       "<Figure size 640x480 with 1 Axes>"
      ]
     },
     "metadata": {},
     "output_type": "display_data"
    }
   ],
   "source": [
    "res.plot()"
   ]
  },
  {
   "cell_type": "code",
   "execution_count": null,
   "id": "f82c9e7f-483c-49aa-a939-f98b508a342d",
   "metadata": {},
   "outputs": [],
   "source": []
  }
 ],
 "metadata": {
  "kernelspec": {
   "display_name": "Python 3 (ipykernel)",
   "language": "python",
   "name": "python3"
  },
  "language_info": {
   "codemirror_mode": {
    "name": "ipython",
    "version": 3
   },
   "file_extension": ".py",
   "mimetype": "text/x-python",
   "name": "python",
   "nbconvert_exporter": "python",
   "pygments_lexer": "ipython3",
   "version": "3.10.8"
  }
 },
 "nbformat": 4,
 "nbformat_minor": 5
}
