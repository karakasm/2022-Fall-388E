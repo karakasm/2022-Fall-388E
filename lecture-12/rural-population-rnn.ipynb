{
 "cells": [
  {
   "cell_type": "code",
   "execution_count": 1,
   "id": "b5f088b1-28a3-4f0b-801e-135bbfc39b5a",
   "metadata": {},
   "outputs": [
    {
     "name": "stderr",
     "output_type": "stream",
     "text": [
      "2022-12-12 12:30:50.447640: I tensorflow/core/platform/cpu_feature_guard.cc:193] This TensorFlow binary is optimized with oneAPI Deep Neural Network Library (oneDNN) to use the following CPU instructions in performance-critical operations:  AVX2 FMA\n",
      "To enable them in other operations, rebuild TensorFlow with the appropriate compiler flags.\n",
      "2022-12-12 12:30:50.659386: W tensorflow/compiler/xla/stream_executor/platform/default/dso_loader.cc:64] Could not load dynamic library 'libcudart.so.11.0'; dlerror: libcudart.so.11.0: cannot open shared object file: No such file or directory; LD_LIBRARY_PATH: /home/kaygun/local/lib\n",
      "2022-12-12 12:30:50.659413: I tensorflow/compiler/xla/stream_executor/cuda/cudart_stub.cc:29] Ignore above cudart dlerror if you do not have a GPU set up on your machine.\n",
      "2022-12-12 12:30:51.570560: W tensorflow/compiler/xla/stream_executor/platform/default/dso_loader.cc:64] Could not load dynamic library 'libnvinfer.so.7'; dlerror: libnvinfer.so.7: cannot open shared object file: No such file or directory; LD_LIBRARY_PATH: /home/kaygun/local/lib\n",
      "2022-12-12 12:30:51.570625: W tensorflow/compiler/xla/stream_executor/platform/default/dso_loader.cc:64] Could not load dynamic library 'libnvinfer_plugin.so.7'; dlerror: libnvinfer_plugin.so.7: cannot open shared object file: No such file or directory; LD_LIBRARY_PATH: /home/kaygun/local/lib\n",
      "2022-12-12 12:30:51.570633: W tensorflow/compiler/tf2tensorrt/utils/py_utils.cc:38] TF-TRT Warning: Cannot dlopen some TensorRT libraries. If you would like to use Nvidia GPU with TensorRT, please make sure the missing libraries mentioned above are installed properly.\n"
     ]
    }
   ],
   "source": [
    "import numpy as np\n",
    "import pandas as pd\n",
    "import yfinance as yf\n",
    "import wbgapi as wb\n",
    "\n",
    "import tensorflow as tf\n",
    "from tensorflow.keras.models import Sequential\n",
    "from tensorflow.keras.layers import Dense, LSTM, RNN, Dropout, SimpleRNN\n",
    "\n",
    "from sklearn.preprocessing import MinMaxScaler\n",
    "from sklearn.metrics import mean_squared_error\n",
    "\n",
    "from keras.callbacks import EarlyStopping\n",
    "\n",
    "import matplotlib.pyplot as plt"
   ]
  },
  {
   "cell_type": "code",
   "execution_count": 2,
   "id": "6d390165-75f0-44db-92f6-4d8743ea2747",
   "metadata": {},
   "outputs": [],
   "source": [
    "def load_data(ID,ec,T):\n",
    "    data = wb.data.DataFrame(ID,economy=ec).T\n",
    "    data.dropna(inplace=True)\n",
    "    N = data.shape[0]\n",
    "    raw = data[ec].to_numpy().reshape(N,1,)\n",
    "    Y_train = raw[1:N-T]\n",
    "    X_train = raw[:N-T-1]\n",
    "    Y_test = raw[N-T:]\n",
    "    X_test = raw[N-T-1:N-1]\n",
    "    return X_train,X_test,Y_train,Y_test"
   ]
  },
  {
   "cell_type": "code",
   "execution_count": 17,
   "id": "42e6642e-e453-4518-8aaa-9bc1de011488",
   "metadata": {},
   "outputs": [],
   "source": [
    "X_train,X_test,Y_train,Y_test = load_data('SP.RUR.TOTL.ZS','ITA',8)"
   ]
  },
  {
   "cell_type": "code",
   "execution_count": 18,
   "id": "073ae1f8-a729-4046-81ba-c98e1daed2c6",
   "metadata": {},
   "outputs": [
    {
     "data": {
      "text/plain": [
       "(53, 1)"
      ]
     },
     "execution_count": 18,
     "metadata": {},
     "output_type": "execute_result"
    }
   ],
   "source": [
    "X_train.shape"
   ]
  },
  {
   "cell_type": "code",
   "execution_count": 19,
   "id": "e4eb2b50-71d4-4eda-a4f0-7ca897798288",
   "metadata": {},
   "outputs": [],
   "source": [
    "model = Sequential()\n",
    "model.add(SimpleRNN(128, input_shape = (1,1), activation = 'relu'))\n",
    "model.add(Dropout(0.5))\n",
    "model.add(Dense(1, activation='linear'))\n",
    "\n",
    "early = EarlyStopping(monitor = \"val_loss\", mode = \"min\", patience = 4)\n",
    "callbacks_list = [early]\n",
    "    \n",
    "model.compile(loss = 'mape', optimizer = 'adam', metrics = ['mse'])"
   ]
  },
  {
   "cell_type": "code",
   "execution_count": 20,
   "id": "d31103b6-f6f9-4506-a8df-642259f15485",
   "metadata": {},
   "outputs": [
    {
     "name": "stdout",
     "output_type": "stream",
     "text": [
      "Epoch 1/10\n",
      "11/11 [==============================] - 2s 40ms/step - loss: 85.4795 - mse: 871.9976 - val_loss: 76.4175 - val_mse: 515.4075\n",
      "Epoch 2/10\n",
      "11/11 [==============================] - 0s 6ms/step - loss: 67.5960 - mse: 550.2261 - val_loss: 62.3985 - val_mse: 343.6544\n",
      "Epoch 3/10\n",
      "11/11 [==============================] - 0s 6ms/step - loss: 56.4531 - mse: 400.4173 - val_loss: 48.2718 - val_mse: 205.6726\n",
      "Epoch 4/10\n",
      "11/11 [==============================] - 0s 7ms/step - loss: 43.1062 - mse: 249.5725 - val_loss: 33.7500 - val_mse: 100.5463\n",
      "Epoch 5/10\n",
      "11/11 [==============================] - 0s 8ms/step - loss: 24.5200 - mse: 94.2296 - val_loss: 19.4665 - val_mse: 33.4554\n",
      "Epoch 6/10\n",
      "11/11 [==============================] - 0s 8ms/step - loss: 18.5824 - mse: 59.3018 - val_loss: 10.6497 - val_mse: 10.0164\n",
      "Epoch 7/10\n",
      "11/11 [==============================] - 0s 7ms/step - loss: 17.5071 - mse: 57.0146 - val_loss: 5.1016 - val_mse: 2.3007\n",
      "Epoch 8/10\n",
      "11/11 [==============================] - 0s 7ms/step - loss: 16.4040 - mse: 49.4414 - val_loss: 2.5135 - val_mse: 0.5597\n",
      "Epoch 9/10\n",
      "11/11 [==============================] - 0s 7ms/step - loss: 16.0080 - mse: 52.7638 - val_loss: 1.0535 - val_mse: 0.0979\n",
      "Epoch 10/10\n",
      "11/11 [==============================] - 0s 7ms/step - loss: 19.0423 - mse: 65.3565 - val_loss: 0.6248 - val_mse: 0.0354\n"
     ]
    },
    {
     "data": {
      "text/plain": [
       "<keras.callbacks.History at 0x7f3bad1b0460>"
      ]
     },
     "execution_count": 20,
     "metadata": {},
     "output_type": "execute_result"
    }
   ],
   "source": [
    "model.fit(X_train,Y_train,epochs=10,batch_size=5,verbose=1,validation_data=(X_test,Y_test))"
   ]
  },
  {
   "cell_type": "code",
   "execution_count": 21,
   "id": "7cb4a2cb-974a-4c77-9694-6f1fa765a29b",
   "metadata": {},
   "outputs": [
    {
     "name": "stdout",
     "output_type": "stream",
     "text": [
      "1/1 [==============================] - 1s 529ms/step\n"
     ]
    },
    {
     "data": {
      "text/html": [
       "<div>\n",
       "<style scoped>\n",
       "    .dataframe tbody tr th:only-of-type {\n",
       "        vertical-align: middle;\n",
       "    }\n",
       "\n",
       "    .dataframe tbody tr th {\n",
       "        vertical-align: top;\n",
       "    }\n",
       "\n",
       "    .dataframe thead th {\n",
       "        text-align: right;\n",
       "    }\n",
       "</style>\n",
       "<table border=\"1\" class=\"dataframe\">\n",
       "  <thead>\n",
       "    <tr style=\"text-align: right;\">\n",
       "      <th></th>\n",
       "      <th>X_test</th>\n",
       "      <th>Y_test</th>\n",
       "      <th>Y_pred</th>\n",
       "    </tr>\n",
       "  </thead>\n",
       "  <tbody>\n",
       "    <tr>\n",
       "      <th>0</th>\n",
       "      <td>31.021</td>\n",
       "      <td>30.728</td>\n",
       "      <td>30.504171</td>\n",
       "    </tr>\n",
       "    <tr>\n",
       "      <th>1</th>\n",
       "      <td>30.728</td>\n",
       "      <td>30.435</td>\n",
       "      <td>30.221138</td>\n",
       "    </tr>\n",
       "    <tr>\n",
       "      <th>2</th>\n",
       "      <td>30.435</td>\n",
       "      <td>30.145</td>\n",
       "      <td>29.938107</td>\n",
       "    </tr>\n",
       "    <tr>\n",
       "      <th>3</th>\n",
       "      <td>30.145</td>\n",
       "      <td>29.856</td>\n",
       "      <td>29.657972</td>\n",
       "    </tr>\n",
       "    <tr>\n",
       "      <th>4</th>\n",
       "      <td>29.856</td>\n",
       "      <td>29.562</td>\n",
       "      <td>29.378799</td>\n",
       "    </tr>\n",
       "    <tr>\n",
       "      <th>5</th>\n",
       "      <td>29.562</td>\n",
       "      <td>29.264</td>\n",
       "      <td>29.094801</td>\n",
       "    </tr>\n",
       "    <tr>\n",
       "      <th>6</th>\n",
       "      <td>29.264</td>\n",
       "      <td>28.961</td>\n",
       "      <td>28.806938</td>\n",
       "    </tr>\n",
       "    <tr>\n",
       "      <th>7</th>\n",
       "      <td>28.961</td>\n",
       "      <td>28.654</td>\n",
       "      <td>28.514248</td>\n",
       "    </tr>\n",
       "  </tbody>\n",
       "</table>\n",
       "</div>"
      ],
      "text/plain": [
       "   X_test  Y_test     Y_pred\n",
       "0  31.021  30.728  30.504171\n",
       "1  30.728  30.435  30.221138\n",
       "2  30.435  30.145  29.938107\n",
       "3  30.145  29.856  29.657972\n",
       "4  29.856  29.562  29.378799\n",
       "5  29.562  29.264  29.094801\n",
       "6  29.264  28.961  28.806938\n",
       "7  28.961  28.654  28.514248"
      ]
     },
     "execution_count": 21,
     "metadata": {},
     "output_type": "execute_result"
    }
   ],
   "source": [
    "Y_pred = model.predict(X_test).reshape(X_test.shape[0])\n",
    "res = pd.DataFrame({'X_test': X_test.reshape(X_test.shape[0]), \n",
    "                    'Y_test': Y_test.reshape(Y_test.shape[0]), \n",
    "                    'Y_pred': Y_pred.reshape(Y_pred.shape[0])})\n",
    "res"
   ]
  },
  {
   "cell_type": "code",
   "execution_count": 22,
   "id": "0142181b-9f5f-4230-b132-23a715ce9e6b",
   "metadata": {},
   "outputs": [
    {
     "data": {
      "text/plain": [
       "<AxesSubplot: >"
      ]
     },
     "execution_count": 22,
     "metadata": {},
     "output_type": "execute_result"
    },
    {
     "data": {
      "image/png": "[encoded data removed]",
      "text/plain": [
       "<Figure size 640x480 with 1 Axes>"
      ]
     },
     "metadata": {},
     "output_type": "display_data"
    }
   ],
   "source": [
    "res.plot()"
   ]
  },
  {
   "cell_type": "code",
   "execution_count": null,
   "id": "8d934b0f-a8d6-443e-ad3c-70ab67b23db5",
   "metadata": {},
   "outputs": [],
   "source": []
  },
  {
   "cell_type": "code",
   "execution_count": null,
   "id": "dd80d520-212a-4932-bf88-5bfb2687aa93",
   "metadata": {},
   "outputs": [],
   "source": []
  }
 ],
 "metadata": {
  "kernelspec": {
   "display_name": "Python 3 (ipykernel)",
   "language": "python",
   "name": "python3"
  },
  "language_info": {
   "codemirror_mode": {
    "name": "ipython",
    "version": 3
   },
   "file_extension": ".py",
   "mimetype": "text/x-python",
   "name": "python",
   "nbconvert_exporter": "python",
   "pygments_lexer": "ipython3",
   "version": "3.10.8"
  }
 },
 "nbformat": 4,
 "nbformat_minor": 5
}
