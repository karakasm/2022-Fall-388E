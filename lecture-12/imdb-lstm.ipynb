{
 "cells": [
  {
   "cell_type": "code",
   "execution_count": 8,
   "id": "308e68e6-227b-4496-80a0-a382d748fedd",
   "metadata": {},
   "outputs": [],
   "source": [
    "import pandas as pd\n",
    "import numpy as np\n",
    "import tensorflow as tf\n",
    "\n",
    "from keras.preprocessing import sequence \n",
    "from keras.datasets import imdb\n",
    "\n",
    "from tensorflow.keras.models import Sequential\n",
    "from tensorflow.keras.layers import Dense, LSTM, Conv1D, Embedding \n",
    "\n",
    "from sklearn.preprocessing import StandardScaler\n",
    "from sklearn.metrics import confusion_matrix, classification_report\n",
    "\n",
    "import matplotlib.pyplot as plt"
   ]
  },
  {
   "cell_type": "markdown",
   "id": "450a66f0-5e8a-4d04-9307-8e2b09dfcd1e",
   "metadata": {},
   "source": [
    "# IMDB"
   ]
  },
  {
   "cell_type": "code",
   "execution_count": 2,
   "id": "0a70cbdf-3c05-41c7-acd4-3fd9cf082104",
   "metadata": {},
   "outputs": [],
   "source": [
    "(X_train, Y_train), (X_test, Y_test) = imdb.load_data(num_words = 2000)\n",
    "X_train = sequence.data_utils.pad_sequences(X_train, maxlen=80) \n",
    "X_test = sequence.data_utils.pad_sequences(X_test, maxlen=80)"
   ]
  },
  {
   "cell_type": "code",
   "execution_count": 12,
   "id": "286fefef-6aee-4cec-96cd-aad7aa73ac77",
   "metadata": {},
   "outputs": [],
   "source": [
    "model = Sequential() \n",
    "model.add(Embedding(2000, 128)) \n",
    "model.add(LSTM(128, dropout = 0.25, recurrent_dropout = 0.1)) \n",
    "model.add(Dense(128,activation='linear'))\n",
    "model.add(Dense(1, activation = 'sigmoid'))\n",
    "model.compile(loss = 'binary_crossentropy', \n",
    "              optimizer = 'adam', \n",
    "              metrics = ['accuracy'])"
   ]
  },
  {
   "cell_type": "code",
   "execution_count": null,
   "id": "80e5d333-4e00-43a0-87c0-0b5dbed9867f",
   "metadata": {},
   "outputs": [
    {
     "name": "stdout",
     "output_type": "stream",
     "text": [
      "Epoch 1/20\n",
      "3125/3125 [==============================] - 158s 50ms/step - loss: 0.4605 - accuracy: 0.7767 - val_loss: 0.3743 - val_accuracy: 0.8337\n",
      "Epoch 2/20\n",
      "2503/3125 [=======================>......] - ETA: 23s - loss: 0.3538 - accuracy: 0.8445"
     ]
    }
   ],
   "source": [
    "model.fit(X_train, Y_train, \n",
    "          batch_size = 8, \n",
    "          epochs = 20, \n",
    "          validation_data = (X_test, Y_test))"
   ]
  },
  {
   "cell_type": "code",
   "execution_count": null,
   "id": "f601c1a0-55d3-4cd5-addc-b1d2ff5db5c9",
   "metadata": {},
   "outputs": [],
   "source": [
    "model.evaluate(X_test,Y_test,batch_size=10)"
   ]
  },
  {
   "cell_type": "code",
   "execution_count": null,
   "id": "affcb985-3be8-458f-b1bb-ef9e985b3cd8",
   "metadata": {},
   "outputs": [],
   "source": [
    "Y_pred = model.predict(X_test).argmax(axis=1)\n",
    "confusion_matrix(Y_test,Y_pred)"
   ]
  },
  {
   "cell_type": "code",
   "execution_count": null,
   "id": "8c90f16c-79d3-4f5d-a921-7fb7ae66ee0e",
   "metadata": {},
   "outputs": [],
   "source": [
    "print(classification_report(Y_test,Y_pred))"
   ]
  },
  {
   "cell_type": "code",
   "execution_count": null,
   "id": "e5c5aacb-3c51-4e85-84a9-9b1cf475b21e",
   "metadata": {},
   "outputs": [],
   "source": []
  }
 ],
 "metadata": {
  "kernelspec": {
   "display_name": "Python 3 (ipykernel)",
   "language": "python",
   "name": "python3"
  },
  "language_info": {
   "codemirror_mode": {
    "name": "ipython",
    "version": 3
   },
   "file_extension": ".py",
   "mimetype": "text/x-python",
   "name": "python",
   "nbconvert_exporter": "python",
   "pygments_lexer": "ipython3",
   "version": "3.10.8"
  }
 },
 "nbformat": 4,
 "nbformat_minor": 5
}
